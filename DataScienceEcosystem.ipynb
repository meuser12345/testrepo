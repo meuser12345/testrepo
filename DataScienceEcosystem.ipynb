{
 "cells": [
  {
   "cell_type": "markdown",
   "id": "7fa03ed9-8373-49ef-9260-119968d79ea6",
   "metadata": {},
   "source": [
    "# Data Science Tools and Ecosystem"
   ]
  },
  {
   "cell_type": "markdown",
   "id": "1613f36a-7162-4a96-b786-5d6fa1cae9b8",
   "metadata": {},
   "source": [
    "In this notebook, Data Science Tools and Ecosystems are summarized."
   ]
  },
  {
   "cell_type": "markdown",
   "id": "9c64f602-e986-4c1b-9316-a444af217c97",
   "metadata": {},
   "source": [
    "***Objectives***:\n",
    "\n",
    "-List popular languages for Data Science\n",
    "\n",
    "-Commonly used libraries by data scientist\n",
    "\n",
    "-popular languages that data scientist use"
   ]
  },
  {
   "cell_type": "markdown",
   "id": "4cfc9bc2-d9f1-4a40-9927-7e678fc2b4f6",
   "metadata": {},
   "source": [
    "Some of the popular languages that Data Scientist use are:\n",
    "1. Python\n",
    "2. R\n",
    "3. SQL"
   ]
  },
  {
   "cell_type": "markdown",
   "id": "5feec441-a595-4d9a-b4c7-ffe06fcbda47",
   "metadata": {},
   "source": [
    "Some of the commonly used libraries used by Data Scientists include:\n",
    "1. Matplotlib\n",
    "2. NumPy\n",
    "3. TensorFlow\n",
    "4. Seaborn"
   ]
  },
  {
   "cell_type": "markdown",
   "id": "9faf36f8-2f18-4ec0-a000-ac7a45842f18",
   "metadata": {},
   "source": [
    "|Data Science Tool|\n",
    "|-----------------|\n",
    "|python|\n",
    "|SQL|\n",
    "|Tableau|"
   ]
  },
  {
   "cell_type": "markdown",
   "id": "2e55fe70-7936-4918-9c13-78c0d07c27a5",
   "metadata": {},
   "source": [
    "Below are a few examples of evaluating arithmetic expressions in Python"
   ]
  },
  {
   "cell_type": "code",
   "execution_count": 18,
   "id": "23a318e2-4f5b-49ba-9c8e-d6560dba5ece",
   "metadata": {},
   "outputs": [
    {
     "name": "stdout",
     "output_type": "stream",
     "text": [
      "17\n"
     ]
    }
   ],
   "source": [
    "#This is a simple arithmetic expression to multiply then add integers.\n",
    "x = 3\n",
    "y = 4\n",
    "z = 5\n",
    "result = (x*y) + z\n",
    "print(result)"
   ]
  },
  {
   "cell_type": "code",
   "execution_count": 20,
   "id": "7c8f07e3-12f6-4e1a-9b27-1273882aa20e",
   "metadata": {},
   "outputs": [
    {
     "name": "stdout",
     "output_type": "stream",
     "text": [
      "3.3333333333333335\n"
     ]
    }
   ],
   "source": [
    "#This will convert 200 minutes to hours by dividing by 60.\n",
    "x = 200\n",
    "y = 60\n",
    "result = x/y\n",
    "print(result)"
   ]
  },
  {
   "cell_type": "markdown",
   "id": "7d7fbceb-f195-4ecc-aa1f-9852a3f6da71",
   "metadata": {},
   "source": [
    "## Author\n",
    "Biddwan Guragain"
   ]
  },
  {
   "cell_type": "code",
   "execution_count": null,
   "id": "7fa1d1c6-75af-4dce-9fe6-d8684ad29952",
   "metadata": {},
   "outputs": [],
   "source": []
  },
  {
   "cell_type": "code",
   "execution_count": null,
   "id": "e3d820a8-6bcd-4f77-82cd-946f78ed5b7a",
   "metadata": {},
   "outputs": [],
   "source": []
  }
 ],
 "metadata": {
  "kernelspec": {
   "display_name": "Python 3 (ipykernel)",
   "language": "python",
   "name": "python3"
  },
  "language_info": {
   "codemirror_mode": {
    "name": "ipython",
    "version": 3
   },
   "file_extension": ".py",
   "mimetype": "text/x-python",
   "name": "python",
   "nbconvert_exporter": "python",
   "pygments_lexer": "ipython3",
   "version": "3.12.4"
  }
 },
 "nbformat": 4,
 "nbformat_minor": 5
}
